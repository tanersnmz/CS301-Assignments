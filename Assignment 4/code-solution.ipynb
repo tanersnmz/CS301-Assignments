{
 "cells": [
  {
   "cell_type": "markdown",
   "id": "54165d04",
   "metadata": {},
   "source": [
    "# PART E"
   ]
  },
  {
   "cell_type": "code",
   "execution_count": 1,
   "id": "1bde06fd",
   "metadata": {},
   "outputs": [],
   "source": [
    "def tuple_update_distance(X, Y):\n",
    "    m = len(X)\n",
    "    n = len(Y)\n",
    "\n",
    "    # dp matrix\n",
    "    dp = [[0] * (n + 1) for _ in range(m + 1)]\n",
    "\n",
    "    # Initializing the table\n",
    "    for i in range(m + 1):\n",
    "        for j in range(n + 1):\n",
    "            if i == 0 and j == 0:\n",
    "                dp[i][j] = 0 # Both prefixes of X and Y are empty\n",
    "            elif i == 0:\n",
    "                dp[i][j] = j  # Prefix of X is empty, insert j tuples to X\n",
    "            elif j == 0:\n",
    "                dp[i][j] = i  # Prefix of Y is empty, delete i tuples from X\n",
    "            elif X[i - 1] == Y[j - 1]:\n",
    "                dp[i][j] = dp[i - 1][j - 1]  # No operation needed\n",
    "            else: \n",
    "                dp[i][j] = 1 + min(dp[i - 1][j],  # Deletion\n",
    "                                  dp[i][j - 1],  # Insertion\n",
    "                                  dp[i - 1][j - 1])  # Replace\n",
    "\n",
    "    # Backtrace to find the operations as we did in the lectures\n",
    "    i, j = m, n\n",
    "    operations = []\n",
    "\n",
    "    while i > 0 or j > 0:\n",
    "        if i > 0 and j > 0 and X[i - 1] == Y[j - 1]:\n",
    "            # Moving diagonally\n",
    "            i -= 1\n",
    "            j -= 1\n",
    "        elif i > 0 and dp[i][j] == dp[i - 1][j] + 1:\n",
    "            # Deletion\n",
    "            operations.append(('delete', i))\n",
    "            i -= 1\n",
    "        elif j > 0 and dp[i][j] == dp[i][j - 1] + 1:\n",
    "            # Insertion\n",
    "            operations.append(('insert', j-1, Y[j - 1]))\n",
    "            j -= 1\n",
    "        else:\n",
    "            # Replace \n",
    "            if i > 0 and j > 0:\n",
    "                operations.append(('replace', i, Y[j - 1]))\n",
    "            i -= 1\n",
    "            j -= 1\n",
    "\n",
    "    operations.reverse()\n",
    "    \n",
    "    #update the operation indexes that are changing due to insert and delete\n",
    "    adjusted_operations = []\n",
    "    offset = 0 \n",
    "    for op in operations:\n",
    "        operation, index, *rest = op\n",
    "        if operation == 'insert':\n",
    "            adjusted_operations.append((operation, index + offset, *rest))\n",
    "            offset += 1  # Increase offset for each insertion\n",
    "        elif operation == 'delete':\n",
    "            adjusted_operations.append((operation, index + offset))\n",
    "            offset -= 1  # Decrease offset for each deletion\n",
    "        else:  # Replace operation\n",
    "            adjusted_operations.append((operation, index + offset, *rest))\n",
    "    return dp[m][n], adjusted_operations"
   ]
  },
  {
   "cell_type": "code",
   "execution_count": 2,
   "id": "261a87e4",
   "metadata": {},
   "outputs": [
    {
     "name": "stdout",
     "output_type": "stream",
     "text": [
      "Update Distance: 3\n",
      "Operations:\n",
      "('replace', 1, (1, 6))\n",
      "('replace', 2, (3, 4))\n",
      "('delete', 4)\n"
     ]
    }
   ],
   "source": [
    "X = [(1, 1), (3, 6), (2, 5), (4, 4)]\n",
    "Y = [(1, 6), (3, 4), (2, 5)]\n",
    "\n",
    "distance, ops = tuple_update_distance(X, Y)\n",
    "\n",
    "print(\"Update Distance:\", distance)\n",
    "print(\"Operations:\")\n",
    "for operation in ops:\n",
    "    print(operation)"
   ]
  },
  {
   "cell_type": "code",
   "execution_count": 3,
   "id": "6f112763",
   "metadata": {},
   "outputs": [
    {
     "name": "stdout",
     "output_type": "stream",
     "text": [
      "Update Distance: 5\n",
      "Operations:\n",
      "('replace', 1, (2, 4))\n",
      "('replace', 2, (6, 9))\n",
      "('replace', 4, (11, 14))\n",
      "('replace', 5, (16, 19))\n",
      "('insert', 5, (21, 25))\n"
     ]
    }
   ],
   "source": [
    "X = [(2, 3), (5, 8), (7, 10), (12, 15), (16, 20)]\n",
    "Y = [(2, 4), (6, 9), (7, 10), (11, 14), (16, 19), (21, 25)]\n",
    "\n",
    "\n",
    "distance, ops = tuple_update_distance(X, Y)\n",
    "\n",
    "print(\"Update Distance:\", distance)\n",
    "print(\"Operations:\")\n",
    "for operation in ops:\n",
    "    print(operation)"
   ]
  },
  {
   "cell_type": "code",
   "execution_count": 4,
   "id": "ea5990ae",
   "metadata": {},
   "outputs": [
    {
     "name": "stdout",
     "output_type": "stream",
     "text": [
      "Update Distance: 2\n",
      "Operations:\n",
      "('insert', 0, (3, 4))\n",
      "('delete', 3)\n"
     ]
    }
   ],
   "source": [
    "X = [(1, 2), (3, 4)]\n",
    "Y = [(3, 4), (1, 2)]\n",
    "distance, ops = tuple_update_distance(X, Y)\n",
    "\n",
    "print(\"Update Distance:\", distance)\n",
    "print(\"Operations:\")\n",
    "for operation in ops:\n",
    "    print(operation)"
   ]
  },
  {
   "cell_type": "markdown",
   "id": "877d5d05",
   "metadata": {},
   "source": [
    "# PART F"
   ]
  },
  {
   "cell_type": "code",
   "execution_count": 5,
   "id": "3ad43ec1",
   "metadata": {},
   "outputs": [],
   "source": [
    "# Black Box Test Cases\n",
    "# Testing edge cases\n",
    "black_box_tests = [\n",
    "    ([], []),  # Both X and Y are empty\n",
    "    ([(1, 2)], []),  # X is non-empty and Y is empty\n",
    "    ([], [(1, 2)]),  # X is empty and Y is non-empty\n",
    "    ([(1, 2)], [(1, 2)]),  # X and Y are the same\n",
    "    ([(1, 2), (3, 4)], [(2, 3), (4, 5)]),  # Equal length but different contents\n",
    "    ([(1, 2)], [(1, 2), (3, 4), (5, 6)]),  # Different lengths\n",
    "    ([(1, 2), (3, 4)], [(3, 4), (1, 2)]),  # Same items but in different order\n",
    "]\n",
    "\n",
    "# White Box Test Cases\n",
    "white_box_tests = [\n",
    "    # Statement Coverage\n",
    "    ([], []),\n",
    "    ([], [(1, 2)]),\n",
    "    ([(1, 2)], []),\n",
    "    ([(1, 2)], [(1, 2)]),\n",
    "    ([(1, 2)], [(2, 3)]),\n",
    "\n",
    "    # Decision Coverage\n",
    "    ([], []),\n",
    "    ([], [(1, 2)]),\n",
    "    ([(1, 2)], []),\n",
    "    ([(1, 2)], [(1, 2)]),\n",
    "    ([(1, 2)], [(1, 3)]),\n",
    "    ([(1, 2), (3, 4)], [(1, 2)]),\n",
    "    ([(1, 2)], [(1, 2), (3, 4)]),\n",
    "\n",
    "    # Path Coverage\n",
    "    ([], []),\n",
    "    ([], [(1, 2)]),\n",
    "    ([(1, 2)], []),\n",
    "    ([(1, 2)], [(1, 2)]),\n",
    "    ([(1, 2)], [(2, 3)]),\n",
    "    ([(1, 2), (3, 4)], [(1, 2)]),\n",
    "    ([(1, 2)], [(1, 2), (3, 4)]),\n",
    "    ([(1, 2), (3, 4)], [(1, 2), (3, 5)]),\n",
    "    ([(3, 4), (1, 2)], [(3, 5), (1, 2)]),\n",
    "    ([(1, 2), (3, 4), (5, 6)], [(1, 2), (3, 5), (5, 6)]),\n",
    "    ([(1, 2), (3, 6), (2, 5), (4, 4)], [(1, 6), (3, 4), (2, 5)]),  \n",
    "\n",
    "]\n",
    "\n"
   ]
  },
  {
   "cell_type": "code",
   "execution_count": 6,
   "id": "944ec69d",
   "metadata": {},
   "outputs": [],
   "source": [
    "def run_tests(tests):\n",
    "    results = []\n",
    "    for i, (X, Y) in enumerate(tests, 1):\n",
    "        distance, ops = tuple_update_distance(X, Y)\n",
    "        results.append((i, X, Y, distance, ops))\n",
    "    return results\n",
    "\n",
    "\n",
    "white_box_results = run_tests(white_box_tests)\n",
    "black_box_results = run_tests(black_box_tests)"
   ]
  },
  {
   "cell_type": "code",
   "execution_count": 7,
   "id": "982b8efc",
   "metadata": {},
   "outputs": [
    {
     "name": "stdout",
     "output_type": "stream",
     "text": [
      "Black Box Results:\n",
      "-------------------\n",
      "Test Case 1 Results: (1, [], [], 0, [])\n",
      "Test Case 2 Results: (2, [(1, 2)], [], 1, [('delete', 1)])\n",
      "Test Case 3 Results: (3, [], [(1, 2)], 1, [('insert', 0, (1, 2))])\n",
      "Test Case 4 Results: (4, [(1, 2)], [(1, 2)], 0, [])\n",
      "Test Case 5 Results: (5, [(1, 2), (3, 4)], [(2, 3), (4, 5)], 2, [('replace', 1, (2, 3)), ('replace', 2, (4, 5))])\n",
      "Test Case 6 Results: (6, [(1, 2)], [(1, 2), (3, 4), (5, 6)], 2, [('insert', 1, (3, 4)), ('insert', 3, (5, 6))])\n",
      "Test Case 7 Results: (7, [(1, 2), (3, 4)], [(3, 4), (1, 2)], 2, [('insert', 0, (3, 4)), ('delete', 3)])\n"
     ]
    }
   ],
   "source": [
    "#(1, [], [], 0, []) -> Explanation(Test Case 1 result):\n",
    "# 1 = test no \n",
    "# [] = X(input) and [] = Y(input)\n",
    "# 0 = update distance\n",
    "# [] = print operations\n",
    "print(\"Black Box Results:\")\n",
    "print(\"-------------------\")\n",
    "for i in black_box_results:\n",
    "    print(f\"Test Case {i[0]} Results: {i}\")"
   ]
  },
  {
   "cell_type": "code",
   "execution_count": 8,
   "id": "e7e247b2",
   "metadata": {},
   "outputs": [
    {
     "name": "stdout",
     "output_type": "stream",
     "text": [
      "White Box Results:\n",
      "-------------------\n",
      "Test Case 1 Results: (1, [], [], 0, [])\n",
      "Test Case 2 Results: (2, [], [(1, 2)], 1, [('insert', 0, (1, 2))])\n",
      "Test Case 3 Results: (3, [(1, 2)], [], 1, [('delete', 1)])\n",
      "Test Case 4 Results: (4, [(1, 2)], [(1, 2)], 0, [])\n",
      "Test Case 5 Results: (5, [(1, 2)], [(2, 3)], 1, [('replace', 1, (2, 3))])\n",
      "Test Case 6 Results: (6, [], [], 0, [])\n",
      "Test Case 7 Results: (7, [], [(1, 2)], 1, [('insert', 0, (1, 2))])\n",
      "Test Case 8 Results: (8, [(1, 2)], [], 1, [('delete', 1)])\n",
      "Test Case 9 Results: (9, [(1, 2)], [(1, 2)], 0, [])\n",
      "Test Case 10 Results: (10, [(1, 2)], [(1, 3)], 1, [('replace', 1, (1, 3))])\n",
      "Test Case 11 Results: (11, [(1, 2), (3, 4)], [(1, 2)], 1, [('delete', 2)])\n",
      "Test Case 12 Results: (12, [(1, 2)], [(1, 2), (3, 4)], 1, [('insert', 1, (3, 4))])\n",
      "Test Case 13 Results: (13, [], [], 0, [])\n",
      "Test Case 14 Results: (14, [], [(1, 2)], 1, [('insert', 0, (1, 2))])\n",
      "Test Case 15 Results: (15, [(1, 2)], [], 1, [('delete', 1)])\n",
      "Test Case 16 Results: (16, [(1, 2)], [(1, 2)], 0, [])\n",
      "Test Case 17 Results: (17, [(1, 2)], [(2, 3)], 1, [('replace', 1, (2, 3))])\n",
      "Test Case 18 Results: (18, [(1, 2), (3, 4)], [(1, 2)], 1, [('delete', 2)])\n",
      "Test Case 19 Results: (19, [(1, 2)], [(1, 2), (3, 4)], 1, [('insert', 1, (3, 4))])\n",
      "Test Case 20 Results: (20, [(1, 2), (3, 4)], [(1, 2), (3, 5)], 1, [('replace', 2, (3, 5))])\n",
      "Test Case 21 Results: (21, [(3, 4), (1, 2)], [(3, 5), (1, 2)], 1, [('replace', 1, (3, 5))])\n",
      "Test Case 22 Results: (22, [(1, 2), (3, 4), (5, 6)], [(1, 2), (3, 5), (5, 6)], 1, [('replace', 2, (3, 5))])\n",
      "Test Case 23 Results: (23, [(1, 2), (3, 6), (2, 5), (4, 4)], [(1, 6), (3, 4), (2, 5)], 3, [('replace', 1, (1, 6)), ('replace', 2, (3, 4)), ('delete', 4)])\n"
     ]
    }
   ],
   "source": [
    "print(\"White Box Results:\")\n",
    "print(\"-------------------\")\n",
    "for i in white_box_results:\n",
    "    print(f\"Test Case {i[0]} Results: {i}\")"
   ]
  },
  {
   "cell_type": "markdown",
   "id": "3825783c",
   "metadata": {},
   "source": [
    "### Exporting Part F Results as TXT"
   ]
  },
  {
   "cell_type": "code",
   "execution_count": 9,
   "id": "48d3aa77",
   "metadata": {},
   "outputs": [
    {
     "name": "stdout",
     "output_type": "stream",
     "text": [
      "Black Box Results written to: black_box_results.txt\n",
      "White Box Results written to: white_box_results.txt\n"
     ]
    }
   ],
   "source": [
    "def write_results_to_txt(file_path, results):\n",
    "    with open(file_path, mode='w') as file:\n",
    "        for i, result in enumerate(results, 1):\n",
    "            file.write(f\"Test {i}\\n\")\n",
    "            file.write(f\"X = {result[1]}\\n\")\n",
    "            file.write(f\"Y = {result[2]}\\n\")\n",
    "            file.write(f\"updates = {result[4]}\\n\")\n",
    "            file.write(f\"Distance = {result[3]}\\n\\n\")\n",
    "\n",
    "black_box_txt_path = 'black_box_results.txt'\n",
    "white_box_txt_path = 'white_box_results.txt'\n",
    "\n",
    "write_results_to_txt(black_box_txt_path, black_box_results)\n",
    "write_results_to_txt(white_box_txt_path, white_box_results)\n",
    "\n",
    "print(f\"Black Box Results written to: {black_box_txt_path}\")\n",
    "print(f\"White Box Results written to: {white_box_txt_path}\")\n"
   ]
  },
  {
   "cell_type": "markdown",
   "id": "16e9fa10",
   "metadata": {},
   "source": [
    "# PART G"
   ]
  },
  {
   "cell_type": "code",
   "execution_count": 10,
   "id": "ce4141c4",
   "metadata": {},
   "outputs": [
    {
     "data": {
      "image/png": "[encoded data removed]",
      "text/plain": [
       "<Figure size 1000x600 with 1 Axes>"
      ]
     },
     "metadata": {},
     "output_type": "display_data"
    }
   ],
   "source": [
    "import matplotlib.pyplot as plt\n",
    "import numpy as np\n",
    "import time\n",
    "\n",
    "def generate_random_instance(size):\n",
    "    return [(np.random.randint(1, 10), np.random.randint(1, 10)) for _ in range(size)]\n",
    "\n",
    "def performance_testing(sample_size, instance_sizes):\n",
    "    results = []\n",
    "    with open('performance_test_results.txt', 'w') as file:\n",
    "        test_number = 1\n",
    "        for size in instance_sizes:\n",
    "            times = []\n",
    "            for _ in range(sample_size):\n",
    "                X = generate_random_instance(size)\n",
    "                Y = generate_random_instance(size)\n",
    "                start_time = time.time()\n",
    "                tuple_update_distance(X, Y)\n",
    "                time_taken = time.time() - start_time\n",
    "                times.append(time_taken)\n",
    "\n",
    "                \n",
    "                file.write(f\"Test {test_number} - Instance Size: {size}\\n\")\n",
    "                file.write(f\"X = {X}\\n\")\n",
    "                file.write(f\"Y = {Y}\\n\")\n",
    "                file.write(f\"Time Taken = {time_taken:.4f} seconds\\n\\n\")\n",
    "                test_number += 1\n",
    "            \n",
    "           \n",
    "            mean_time = np.mean(times)\n",
    "            std_dev_time = np.std(times)\n",
    "            results.append((size, mean_time, std_dev_time))\n",
    "    \n",
    "    return results\n",
    "\n",
    "# Parameters testing\n",
    "sample_size = 1000  # Number of samples for each instance size\n",
    "instance_sizes = range(1, 201, 10)  # Instance sizes \n",
    "\n",
    "performance_results = performance_testing(sample_size, instance_sizes)\n",
    "\n",
    "sizes, mean_times, std_dev_times = zip(*performance_results)\n",
    "\n",
    "plt.figure(figsize=(10, 6))\n",
    "plt.plot(sizes, mean_times, linestyle='-', color='blue', marker='o')\n",
    "plt.title('Performance Analysis')\n",
    "plt.xlabel('Input Size')\n",
    "plt.ylabel('Running Time (seconds)')\n",
    "plt.grid(True)\n",
    "plt.show()"
   ]
  }
 ],
 "metadata": {
  "kernelspec": {
   "display_name": "Python 3 (ipykernel)",
   "language": "python",
   "name": "python3"
  },
  "language_info": {
   "codemirror_mode": {
    "name": "ipython",
    "version": 3
   },
   "file_extension": ".py",
   "mimetype": "text/x-python",
   "name": "python",
   "nbconvert_exporter": "python",
   "pygments_lexer": "ipython3",
   "version": "3.11.4"
  }
 },
 "nbformat": 4,
 "nbformat_minor": 5
}
